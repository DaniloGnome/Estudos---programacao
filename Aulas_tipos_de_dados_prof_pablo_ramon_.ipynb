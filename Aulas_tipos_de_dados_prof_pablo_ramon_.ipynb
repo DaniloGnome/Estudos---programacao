{
  "nbformat": 4,
  "nbformat_minor": 0,
  "metadata": {
    "colab": {
      "provenance": [],
      "authorship_tag": "ABX9TyPPfTh/3z2ciXbRYIznjUft",
      "include_colab_link": true
    },
    "kernelspec": {
      "name": "python3",
      "display_name": "Python 3"
    },
    "language_info": {
      "name": "python"
    }
  },
  "cells": [
    {
      "cell_type": "markdown",
      "metadata": {
        "id": "view-in-github",
        "colab_type": "text"
      },
      "source": [
        "<a href=\"https://colab.research.google.com/github/DaniloGnome/Estudos---programacao/blob/main/Aulas_tipos_de_dados_prof_pablo_ramon_.ipynb\" target=\"_parent\"><img src=\"https://colab.research.google.com/assets/colab-badge.svg\" alt=\"Open In Colab\"/></a>"
      ]
    },
    {
      "cell_type": "code",
      "execution_count": 3,
      "metadata": {
        "colab": {
          "base_uri": "https://localhost:8080/"
        },
        "id": "8bKTiCKIBuvy",
        "outputId": "3582d0ef-6f30-4ec0-9d85-01c5492ce5b9"
      },
      "outputs": [
        {
          "output_type": "stream",
          "name": "stdout",
          "text": [
            "hello gnome\n"
          ]
        }
      ],
      "source": [
        "print(\"hello gnome\")\n"
      ]
    },
    {
      "cell_type": "code",
      "source": [
        "nome = 'Gnome'\n",
        "print(nome)"
      ],
      "metadata": {
        "colab": {
          "base_uri": "https://localhost:8080/"
        },
        "id": "-QBA8uYWC461",
        "outputId": "4accc890-ab6f-4c1a-f66e-489403edbed1"
      },
      "execution_count": 13,
      "outputs": [
        {
          "output_type": "stream",
          "name": "stdout",
          "text": [
            "Gnome\n"
          ]
        }
      ]
    },
    {
      "cell_type": "code",
      "source": [
        "# Como descobrir tipo da variavel - type(nomedavariavel) -- exemplo a baixo\n",
        "type(nome)"
      ],
      "metadata": {
        "colab": {
          "base_uri": "https://localhost:8080/"
        },
        "id": "lMQ9MI8QDGTk",
        "outputId": "d715f43f-24d0-4827-b8b3-f6e3f1d35414"
      },
      "execution_count": 14,
      "outputs": [
        {
          "output_type": "execute_result",
          "data": {
            "text/plain": [
              "str"
            ]
          },
          "metadata": {},
          "execution_count": 14
        }
      ]
    },
    {
      "cell_type": "code",
      "source": [
        "# pedir ao usuario para digitar as notas do semestre\n",
        "nota1 = float(input(\"digite a primeira nota: \"))\n",
        "nota2 = float(input(\"digite a segunda nota: \"))\n",
        "nota3 = float(input(\"digite a terceira nota: \"))\n",
        "nota4 = float(input(\"digite a quarta nota: \"))\n",
        "nota5 = float(input(\"digite a quinta nota: \"))\n",
        "\n",
        "\n",
        "# calcular a soma dos dois numeros e dividida por 3\n",
        "resultado = (nota1 + nota2 + nota3 + nota4 + nota5) / 5\n",
        "\n",
        "# exibir o resultado\n",
        "print(\"a média do aluno é:\", resultado)"
      ],
      "metadata": {
        "colab": {
          "base_uri": "https://localhost:8080/"
        },
        "id": "9o16Q7rVDrud",
        "outputId": "5463fbfe-fa6d-412b-d324-d8c85753b548"
      },
      "execution_count": 42,
      "outputs": [
        {
          "output_type": "stream",
          "name": "stdout",
          "text": [
            "digite a primeira nota: 10\n",
            "digite a segunda nota: 0\n",
            "digite a terceira nota: 10\n",
            "digite a quarta nota: 10\n",
            "digite a quinta nota: 10\n",
            "a média do aluno é: 8.0\n"
          ]
        }
      ]
    },
    {
      "cell_type": "code",
      "source": [
        "a = 100<200\n",
        "b = 85 == 6 # vai ser falso, pois 85 nao é igual ( duas == é referencia a sinal de igualdade)\n",
        "c = 'danilo' == 'gnome'\n",
        "d = 25 == '25' # vai ser falso, pois o '25' é uma string e nao é numeral\n",
        "e = 30 == (6*5) # vai ser true, pois o (6*5) é um numeral aritimetico com sinal de multiplicação"
      ],
      "metadata": {
        "id": "tyfZrOpIKigH"
      },
      "execution_count": null,
      "outputs": []
    },
    {
      "cell_type": "code",
      "source": [
        "print(a)\n"
      ],
      "metadata": {
        "id": "qNRDEc2fLJNg"
      },
      "execution_count": null,
      "outputs": []
    },
    {
      "cell_type": "code",
      "source": [
        "notaAprovacao = 7.0 #nota para aprovação\n",
        "notaAluno = 3.0 #nota do aluno\n",
        "print(notaAprovacao < notaAluno)"
      ],
      "metadata": {
        "colab": {
          "base_uri": "https://localhost:8080/"
        },
        "id": "M6v57hx5N0KP",
        "outputId": "ffdeb95f-dd2e-478d-d092-65a209762db4"
      },
      "execution_count": 65,
      "outputs": [
        {
          "output_type": "stream",
          "name": "stdout",
          "text": [
            "False\n"
          ]
        }
      ]
    },
    {
      "cell_type": "code",
      "source": [
        "if(notaAluno >= notaAprovacao):\n",
        "  print('Aprovado')\n",
        "else:\n",
        "  print('Reprovado')"
      ],
      "metadata": {
        "colab": {
          "base_uri": "https://localhost:8080/"
        },
        "id": "LUQHEzvWObja",
        "outputId": "a51fcaf3-e81a-4c48-9da7-02771621f99d"
      },
      "execution_count": 61,
      "outputs": [
        {
          "output_type": "stream",
          "name": "stdout",
          "text": [
            "Reprovado\n"
          ]
        }
      ]
    },
    {
      "cell_type": "code",
      "source": [
        "# mostre se vai ser, reprovado(-4), aprovado(+ ou = 7) ou recuperaçao entre 4 e 7\n",
        "\n",
        "\n",
        "if(notaAluno >= 7): \n",
        "  print('aprovado')\n",
        "elif(notaAluno >= 4 and notaAluno < 7):\n",
        "  print('recuperacao')\n",
        "else:\n",
        "  print('reprovado')"
      ],
      "metadata": {
        "colab": {
          "base_uri": "https://localhost:8080/"
        },
        "id": "hUqPk_htQ_6V",
        "outputId": "d37bbd58-c5e0-4385-f92b-5f7f61da9694"
      },
      "execution_count": 66,
      "outputs": [
        {
          "output_type": "stream",
          "name": "stdout",
          "text": [
            "reprovado\n"
          ]
        }
      ]
    },
    {
      "cell_type": "code",
      "source": [
        "41# peça a primeira nota, segunda nota e terceira nota\n",
        "# depois mostre se vai ser, reprovado(-4), aprovado(+ ou = 7) ou recuperaçao entre 4 e 7\n",
        "\n",
        "nota1 = float(input(\"digite a primeira nota: \"))\n",
        "nota2 = float(input(\"digite a segunda nota: \"))\n",
        "nota3 = float(input(\"digite a terceira nota: \"))\n",
        "\n",
        "resultado = (nota1 + nota2 + nota3)/3\n",
        "print('A media do aluno é :',resultado)\n"
      ],
      "metadata": {
        "colab": {
          "base_uri": "https://localhost:8080/"
        },
        "id": "twnj3F6xTcpv",
        "outputId": "85964193-b215-4fb0-b9a0-839ba78c8d57"
      },
      "execution_count": 100,
      "outputs": [
        {
          "output_type": "stream",
          "name": "stdout",
          "text": [
            "digite a primeira nota: 4\n",
            "digite a segunda nota: 4\n",
            "digite a terceira nota: 4\n",
            "A media do aluno é : 4.0\n"
          ]
        }
      ]
    },
    {
      "cell_type": "code",
      "source": [
        "if(resultado >= 7): \n",
        "  print('aprovado')\n",
        "elif(resultado >= 4 and resultado < 7):\n",
        "  print('recuperacao')\n",
        "else:\n",
        "  print('reprovado')\n"
      ],
      "metadata": {
        "colab": {
          "base_uri": "https://localhost:8080/"
        },
        "id": "qLsgVEoAW8s2",
        "outputId": "e23b8c38-939a-4bb4-bd02-95bda57814e5"
      },
      "execution_count": 102,
      "outputs": [
        {
          "output_type": "stream",
          "name": "stdout",
          "text": [
            "recuperacao\n"
          ]
        }
      ]
    }
  ]
}