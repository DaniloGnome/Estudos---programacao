{
  "nbformat": 4,
  "nbformat_minor": 0,
  "metadata": {
    "colab": {
      "provenance": [],
      "authorship_tag": "ABX9TyMo1A+SOHGcaYenBfOdC7OP",
      "include_colab_link": true
    },
    "kernelspec": {
      "name": "python3",
      "display_name": "Python 3"
    },
    "language_info": {
      "name": "python"
    }
  },
  "cells": [
    {
      "cell_type": "markdown",
      "metadata": {
        "id": "view-in-github",
        "colab_type": "text"
      },
      "source": [
        "<a href=\"https://colab.research.google.com/github/DaniloGnome/Program--Prof-Pablo/blob/main/Class.ipynb\" target=\"_parent\"><img src=\"https://colab.research.google.com/assets/colab-badge.svg\" alt=\"Open In Colab\"/></a>"
      ]
    },
    {
      "cell_type": "code",
      "execution_count": 35,
      "metadata": {
        "colab": {
          "base_uri": "https://localhost:8080/"
        },
        "id": "4d-4cYgTiLBF",
        "outputId": "90bab24a-4d29-4a88-a3e7-535c558d8dd2"
      },
      "outputs": [
        {
          "output_type": "stream",
          "name": "stdout",
          "text": [
            "Danilo, cargo: Dev, matricula: 1369\n"
          ]
        }
      ],
      "source": [
        "class Funcionario:\n",
        "  def __init__(self,name,cargo,matricula):\n",
        "    self.name = name\n",
        "    self.cargo = cargo\n",
        "    self.matricula = matricula\n",
        "vendedor = Funcionario ('Danilo', 'Dev', 1369)\n",
        "print(f'{vendedor.name}, cargo: {vendedor.cargo}, matricula: {vendedor.matricula}')"
      ]
    },
    {
      "cell_type": "code",
      "source": [
        "class Cliente:\n",
        "  def __init__(self,nome,idade,sexo):\n",
        "    self.nome = nome\n",
        "    self.idade = idade\n",
        "    self.sexo = sexo\n",
        "pessoa = Cliente ('Danilo',29,'Masculino')\n",
        "print(f'{pessoa.nome},{pessoa.idade},{pessoa.sexo}')\n"
      ],
      "metadata": {
        "colab": {
          "base_uri": "https://localhost:8080/"
        },
        "id": "MdpMQehMluzB",
        "outputId": "2247e17e-5810-4166-ffb7-19176d62db0b"
      },
      "execution_count": 40,
      "outputs": [
        {
          "output_type": "stream",
          "name": "stdout",
          "text": [
            "Danilo,29,Masculino\n"
          ]
        }
      ]
    },
    {
      "cell_type": "code",
      "source": [
        "#classe formatada\n",
        "\n",
        "class Cliente:\n",
        "  def __init__(self,nome,idade,sexo):\n",
        "    self.nome = nome\n",
        "    self.idade = idade\n",
        "    self.sexo = sexo\n",
        "  def detalhe(self):\n",
        "    print(f'{self.nome},{self.idade},{self.sexo}')\n",
        "\n",
        "cli= Cliente('Danilo',29,'Masculino')\n",
        "cli.detalhe()"
      ],
      "metadata": {
        "colab": {
          "base_uri": "https://localhost:8080/"
        },
        "id": "TssKcr2dn8Lk",
        "outputId": "ae00c477-7026-40a1-f361-429d3e2f0b07"
      },
      "execution_count": 41,
      "outputs": [
        {
          "output_type": "stream",
          "name": "stdout",
          "text": [
            "Danilo,29,Masculino\n"
          ]
        }
      ]
    },
    {
      "cell_type": "code",
      "source": [
        "## criar classe CONTA com atributo titular e saldo\n",
        "#criar funcao exibeSaldo\n",
        "class Conta:\n",
        "  def __init__ (self,titular,saldo):\n",
        "    self.titular = titular\n",
        "    self.saldo = saldo\n",
        "  def exibeSaldo(self):\n",
        "      print(f'{self.saldo}')\n",
        "contaSaldo = Conta ('Danilo',19991)\n",
        "contaSaldo.exibeSaldo()"
      ],
      "metadata": {
        "colab": {
          "base_uri": "https://localhost:8080/"
        },
        "id": "G8PgxW1UooJj",
        "outputId": "d589aa35-5191-458f-88bf-97349070e1f9"
      },
      "execution_count": 50,
      "outputs": [
        {
          "output_type": "stream",
          "name": "stdout",
          "text": [
            "19991\n"
          ]
        }
      ]
    },
    {
      "cell_type": "code",
      "source": [
        "## HERANÇA\n",
        "class Animal:  ### SuperClasse\n",
        "  def __init__(self,name):\n",
        "    self.name = name\n",
        "  def emitirSom(self):\n",
        "    pass\n",
        "\n",
        "class Ovelha(Animal): ### SubClasse\n",
        "  def emitirSom(self):\n",
        "    print('Beeeeee')\n",
        "\n",
        "class Cachorro(Animal): ### SubClasse\n",
        "  def emitirSom(self):\n",
        "    print('Woff Woff')\n",
        "\n",
        "class Vaca(Animal): ### SubClasse\n",
        "  def emitirSom(self):\n",
        "    print('Muuuuuuuuuun')\n",
        "\n",
        "\n",
        "ovelinha = Ovelha('Danilo')\n",
        "ovelinha.emitirSom()"
      ],
      "metadata": {
        "colab": {
          "base_uri": "https://localhost:8080/"
        },
        "id": "ERYCwyuvtU5M",
        "outputId": "57ecac05-7cd3-43c9-cb1d-3ff6796e0e86"
      },
      "execution_count": 56,
      "outputs": [
        {
          "output_type": "stream",
          "name": "stdout",
          "text": [
            "Beeeeee\n"
          ]
        }
      ]
    }
  ]
}