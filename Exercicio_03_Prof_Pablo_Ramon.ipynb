{
  "nbformat": 4,
  "nbformat_minor": 0,
  "metadata": {
    "colab": {
      "provenance": [],
      "authorship_tag": "ABX9TyP7/h3PM8G6JiNGjILys4ae",
      "include_colab_link": true
    },
    "kernelspec": {
      "name": "python3",
      "display_name": "Python 3"
    },
    "language_info": {
      "name": "python"
    }
  },
  "cells": [
    {
      "cell_type": "markdown",
      "metadata": {
        "id": "view-in-github",
        "colab_type": "text"
      },
      "source": [
        "<a href=\"https://colab.research.google.com/github/DaniloGnome/Estudos---programacao/blob/main/Exercicio_03_Prof_Pablo_Ramon.ipynb\" target=\"_parent\"><img src=\"https://colab.research.google.com/assets/colab-badge.svg\" alt=\"Open In Colab\"/></a>"
      ]
    },
    {
      "cell_type": "markdown",
      "source": [
        "Exercício:\n",
        "\n",
        "Criar um algoritmo que a idade do atleta de judô, e siga as seguintes regras:\n",
        "\n",
        "Se tiver 18 anos ou mais, \"é lutador sênior\"\n",
        "\n",
        "Se tiver entre 14 anos e 18, \"é lutador juvenil\"\n",
        "\n",
        "Se for menor que 14, \"é infantil\"\n",
        "\n",
        "Refaça o exemplo do IMC para as seguintes Regras:\n",
        "\n",
        "Menor que 18.5 - Abaixo do peso normal\n",
        "\n",
        "18.5 ---------------------------- 24.9 Peso normal\n",
        "\n",
        "25.0 ---------------------------- 29.9 Excesso de peso\n",
        "\n",
        "30.0 ---------------------------- 34.9 Obesidade classe I\n",
        "\n",
        "35,0 ----------------------------- 39.9 Obesidade classe II\n",
        "\n",
        "Maior ou igual a 40.0 -- Obesidade classe III"
      ],
      "metadata": {
        "id": "vW7DnsSm-AUE"
      }
    },
    {
      "cell_type": "code",
      "source": [
        "##### EXERCICIO 1 #####\n",
        "\n",
        "\n",
        "#pedir a idade\n",
        "idade = float(input(\"Digite a idade do atleta: \"))\n",
        "\n",
        "#saber a categoria do atleta\n",
        "\n",
        "if idade >= 18:\n",
        "  categoria = \"Senior\"\n",
        "elif idade >=14:\n",
        "  categoria = \"Juvenil\"\n",
        "else:\n",
        "  categoria = \"Infantil\"\n",
        "\n",
        "print(f\"O atleta está na categoria {categoria}\")"
      ],
      "metadata": {
        "id": "hmHIfoLPGZxA",
        "colab": {
          "base_uri": "https://localhost:8080/"
        },
        "outputId": "074b70c2-bca4-4198-d53c-d975946f0f95"
      },
      "execution_count": null,
      "outputs": [
        {
          "output_type": "stream",
          "name": "stdout",
          "text": [
            "Digite a idade do atleta: 19\n",
            "O atleta está na categoria Senior\n"
          ]
        }
      ]
    },
    {
      "cell_type": "code",
      "source": [
        "##### EXERCICIO 2 #####\n",
        "\n",
        "#pedir altura\n",
        "altura = float(input('Sua altura '))  ##### altura é a variavel, float é o dado numerico, input é a entrada (o que o usuario vai digitar)\n",
        "\n",
        "#pedir o peso\n",
        "peso = float(input('Seu Peso '))  ##### peso é a variavel, float é o dado numerico, input é a entrada (o que o usuario vai digitar)\n",
        "\n",
        "#calculo para IMC\n",
        "imc = peso / (altura*altura)    ##### imc é a variavel, = é a referencia, peso é a variavel, / simbolo matematico de divisao e * simbolo matematico para multiplicação da variavel altura*altura\n",
        "print(f'seu imc é: {imc:,.2f}') ##### print é para imprimir no console o seguinte > o .2f é uma formatacao para exibir apenas as duas casas decimais do numero... Exemplo - 2.4212 mostrará apenas 2.42\n",
        "\n",
        "#categorias do IMC\n",
        "if imc < 18.5:\n",
        "  categoria = \"Abaixo do peso\"\n",
        "\n",
        "elif 18.5 <= imc < 24.9:\n",
        "  categoria = \"Peso Normal\"\n",
        "\n",
        "elif 25 <= imc < 29.9:\n",
        "  categoria = \"excesso de peso\"\n",
        "\n",
        "elif 30 <= imc < 34.9:\n",
        "  categoria = \"obesidade classe 1\"\n",
        "\n",
        "elif 35 <= imc < 39.9:\n",
        "  categoria = \"obesidade classe 2\"\n",
        "\n",
        "else:\n",
        "  categoria =\"obeidade classe 3\"\n",
        "\n",
        "print(f\"O atleta está na categoria {categoria}\")\n"
      ],
      "metadata": {
        "colab": {
          "base_uri": "https://localhost:8080/"
        },
        "id": "SDBIHxwxK5nw",
        "outputId": "543da443-07aa-47e8-fe12-909142c89863"
      },
      "execution_count": null,
      "outputs": [
        {
          "output_type": "stream",
          "name": "stdout",
          "text": [
            "Sua altura 1.70\n",
            "Seu Peso 80\n",
            "seu imc é: 27.68\n",
            "O atleta está na categoria excesso de peso\n"
          ]
        }
      ]
    }
  ]
}