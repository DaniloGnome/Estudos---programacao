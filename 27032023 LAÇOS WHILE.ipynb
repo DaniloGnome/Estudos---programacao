{
  "nbformat": 4,
  "nbformat_minor": 0,
  "metadata": {
    "colab": {
      "provenance": [],
      "authorship_tag": "ABX9TyO3qY4Ypej0QYNq6u/gzUQY",
      "include_colab_link": true
    },
    "kernelspec": {
      "name": "python3",
      "display_name": "Python 3"
    },
    "language_info": {
      "name": "python"
    }
  },
  "cells": [
    {
      "cell_type": "markdown",
      "metadata": {
        "id": "view-in-github",
        "colab_type": "text"
      },
      "source": [
        "<a href=\"https://colab.research.google.com/github/DaniloGnome/Program--Prof-Pablo/blob/main/27032023%20LA%C3%87OS%20WHILE.ipynb\" target=\"_parent\"><img src=\"https://colab.research.google.com/assets/colab-badge.svg\" alt=\"Open In Colab\"/></a>"
      ]
    },
    {
      "cell_type": "code",
      "execution_count": 9,
      "metadata": {
        "id": "SDEIDHMe_v7R"
      },
      "outputs": [],
      "source": [
        "# lista de frutas\n",
        "frutas = ['manga', 'uva', 'abacaxi', 'limao', 'goiaba','maracuja']"
      ]
    },
    {
      "cell_type": "code",
      "source": [
        "for i in frutas:\n",
        "  print(i)"
      ],
      "metadata": {
        "colab": {
          "base_uri": "https://localhost:8080/"
        },
        "id": "TrYITD4WGD-u",
        "outputId": "0c2f5f9d-79aa-4a5b-ef12-d01ace092b1c"
      },
      "execution_count": 10,
      "outputs": [
        {
          "output_type": "stream",
          "name": "stdout",
          "text": [
            "manga\n",
            "uva\n",
            "abacaxi\n",
            "limao\n",
            "goiaba\n",
            "maracuja\n"
          ]
        }
      ]
    },
    {
      "cell_type": "code",
      "source": [
        "for i in frutas:\n",
        "  if(i == 'limao'):\n",
        "    print(i)"
      ],
      "metadata": {
        "colab": {
          "base_uri": "https://localhost:8080/"
        },
        "id": "aXgXq66PGSCr",
        "outputId": "9c18fc67-ecbe-42ad-f3a0-0651d7bea354"
      },
      "execution_count": 12,
      "outputs": [
        {
          "output_type": "stream",
          "name": "stdout",
          "text": [
            "limao\n"
          ]
        }
      ]
    },
    {
      "cell_type": "code",
      "source": [
        "### inserir um fruta na lista\n",
        "fruta = input('Digite o nome de uma fruta para ser adicionada a lista : ')\n",
        "frutas.append(fruta)\n",
        "print(frutas)"
      ],
      "metadata": {
        "colab": {
          "base_uri": "https://localhost:8080/"
        },
        "id": "iPB7eop9H2Pg",
        "outputId": "2c68c55f-7425-4eef-a6c7-a349b617b00b"
      },
      "execution_count": 14,
      "outputs": [
        {
          "output_type": "stream",
          "name": "stdout",
          "text": [
            "Digite o nome de uma fruta para ser adicionada a lista : limao\n",
            "['manga', 'uva', 'abacaxi', 'limao', 'goiaba', 'maracuja', 'limao', 'limao']\n"
          ]
        }
      ]
    },
    {
      "cell_type": "code",
      "source": [
        "### notas\n",
        "notas = [8,9,3,4,7,10,6,7]"
      ],
      "metadata": {
        "id": "77j3A5tvJFWX"
      },
      "execution_count": 55,
      "outputs": []
    },
    {
      "cell_type": "code",
      "source": [
        "for nota in notas:\n",
        "  if(nota >=7):\n",
        "    print(nota)\n"
      ],
      "metadata": {
        "colab": {
          "base_uri": "https://localhost:8080/"
        },
        "id": "Ez_sk0gRJeVm",
        "outputId": "9fe0f89b-eb27-4268-c83a-0e4656bdbc67"
      },
      "execution_count": 50,
      "outputs": [
        {
          "output_type": "stream",
          "name": "stdout",
          "text": [
            "8\n",
            "9\n",
            "7\n",
            "10\n",
            "7\n"
          ]
        }
      ]
    },
    {
      "cell_type": "code",
      "source": [
        "\n",
        "### exiba a quantidade de aprovados e reprovados\n",
        "reprovados = 0\n",
        "aprovados = 0\n",
        "for nota in notas:\n",
        "  if(nota>=7):\n",
        "    aprovados += 1\n",
        "  else:\n",
        "    reprovados += 1\n",
        "\n",
        "    print('reprovados : ', reprovados)\n",
        "    print('aprovados : ', aprovados)"
      ],
      "metadata": {
        "colab": {
          "base_uri": "https://localhost:8080/"
        },
        "id": "D0D2FActJTDm",
        "outputId": "50d24f14-33df-489f-8f6c-92947bbbb4eb"
      },
      "execution_count": 56,
      "outputs": [
        {
          "output_type": "stream",
          "name": "stdout",
          "text": [
            "reprovados :  1\n",
            "aprovados :  2\n",
            "reprovados :  2\n",
            "aprovados :  2\n",
            "reprovados :  3\n",
            "aprovados :  4\n"
          ]
        }
      ]
    },
    {
      "cell_type": "code",
      "source": [],
      "metadata": {
        "id": "78PBbrNeQrZt"
      },
      "execution_count": null,
      "outputs": []
    },
    {
      "cell_type": "markdown",
      "source": [
        "LAÇOS WHILE"
      ],
      "metadata": {
        "id": "TQgByiBtQsw1"
      }
    },
    {
      "cell_type": "markdown",
      "source": [],
      "metadata": {
        "id": "gB7I5ld9H_3t"
      }
    },
    {
      "cell_type": "code",
      "source": [
        "#CRIAR UM PROGRAMA QUE LISTA OS NUMEROS DE 1 A 10\n",
        "#PARA ISTO , PRECISAREMOS DE UM CONTADOR\n",
        "\n",
        "novo = float(input(\"digite um numero\"))\n",
        "\n",
        "cont=1\n",
        "numeros = []\n",
        "while (cont <=novo):  ### while significa enquanto\n",
        "  numeros.append(cont)\n",
        "  cont +=1\n",
        "\n",
        "numeros"
      ],
      "metadata": {
        "colab": {
          "base_uri": "https://localhost:8080/"
        },
        "id": "MAyna5cnQvbN",
        "outputId": "58b1c3bb-5a5a-43a4-f5c5-fa66ac9f18b8"
      },
      "execution_count": 76,
      "outputs": [
        {
          "name": "stdout",
          "output_type": "stream",
          "text": [
            "digite um numero10\n"
          ]
        },
        {
          "output_type": "execute_result",
          "data": {
            "text/plain": [
              "[1, 2, 3, 4, 5, 6, 7, 8, 9, 10]"
            ]
          },
          "metadata": {},
          "execution_count": 76
        }
      ]
    },
    {
      "cell_type": "code",
      "source": [
        "## inserir nomes de cidades.\n",
        "## o laco encerra, quando digitar 0\n",
        "\n",
        "cidade = (input(\"digite uma cidade\"))\n",
        "\n",
        "cidades = []\n",
        "while (cidade !='0'): ### != esclamação sempre sera o oposto\n",
        "  cidades.append(cidade)\n",
        "  cidade = (input(\"digite uma cidade novamente :\"))\n",
        "\n",
        "cidades"
      ],
      "metadata": {
        "colab": {
          "base_uri": "https://localhost:8080/"
        },
        "id": "L26rRTLQWgtk",
        "outputId": "cc5f9af8-d691-4ffb-e703-cb5fa4dcb1e9"
      },
      "execution_count": 86,
      "outputs": [
        {
          "name": "stdout",
          "output_type": "stream",
          "text": [
            "digite uma cidade0\n"
          ]
        },
        {
          "output_type": "execute_result",
          "data": {
            "text/plain": [
              "[]"
            ]
          },
          "metadata": {},
          "execution_count": 86
        }
      ]
    },
    {
      "cell_type": "code",
      "source": [
        "### verificar se é par ou impar e para quando digitar um numero negativo\n",
        "\n",
        "\n",
        "numero = float(input(\"digite um numero\"))\n",
        "\n",
        "while(numero >= 0):\n",
        "  if (numero % 2== 0):   # o % é um modulo, == se for igual a '0' sera par\n",
        "    print('é par')\n",
        "    numero = float(input(\"digite outro numero\"))\n",
        "  else:\n",
        "    print('é impar')\n",
        "    numero = float(input(\"digite outro numero\"))\n",
        "\n",
        "print('end')\n",
        "     "
      ],
      "metadata": {
        "colab": {
          "base_uri": "https://localhost:8080/"
        },
        "id": "kyga771MYTpN",
        "outputId": "dbd9e3e3-943d-4e9d-d577-e32e438a722c"
      },
      "execution_count": null,
      "outputs": [
        {
          "output_type": "stream",
          "name": "stdout",
          "text": [
            "digite um numero2\n",
            "é par\n",
            "digite outro numero1\n",
            "é impar\n",
            "digite outro numero3\n",
            "é impar\n",
            "digite outro numero1\n",
            "é impar\n"
          ]
        }
      ]
    }
  ]
}