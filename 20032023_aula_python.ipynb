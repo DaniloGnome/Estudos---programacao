{
  "nbformat": 4,
  "nbformat_minor": 0,
  "metadata": {
    "colab": {
      "provenance": [],
      "authorship_tag": "ABX9TyO+cPs7HUbulObIWklyc7pP",
      "include_colab_link": true
    },
    "kernelspec": {
      "name": "python3",
      "display_name": "Python 3"
    },
    "language_info": {
      "name": "python"
    }
  },
  "cells": [
    {
      "cell_type": "markdown",
      "metadata": {
        "id": "view-in-github",
        "colab_type": "text"
      },
      "source": [
        "<a href=\"https://colab.research.google.com/github/DaniloGnome/Estudos---programacao/blob/main/20032023_aula_python.ipynb\" target=\"_parent\"><img src=\"https://colab.research.google.com/assets/colab-badge.svg\" alt=\"Open In Colab\"/></a>"
      ]
    },
    {
      "cell_type": "code",
      "execution_count": 4,
      "metadata": {
        "colab": {
          "base_uri": "https://localhost:8080/"
        },
        "id": "IiF1KI4eAK72",
        "outputId": "2d77f650-b9b0-4a58-b6c0-dcedcfa9c305"
      },
      "outputs": [
        {
          "output_type": "execute_result",
          "data": {
            "text/plain": [
              "6"
            ]
          },
          "metadata": {},
          "execution_count": 4
        }
      ],
      "source": [
        "### lista de frutas ###\n",
        "frutas = ['manga', 'uva', 'abacaxi', 'limao', 'goiaba','maracuja']\n",
        "\n",
        "len(frutas) ### len ler a quantidade de frutas que está relacionada a variavel frutas\n"
      ]
    },
    {
      "cell_type": "code",
      "source": [
        "### lista de alunos ###\n",
        "alunos = ['danilo','marcelo', 'maria', 'jose', 'inacio']"
      ],
      "metadata": {
        "id": "bHFAZelhDNUB"
      },
      "execution_count": 20,
      "outputs": []
    },
    {
      "cell_type": "code",
      "source": [
        "### modificar, os nomes dos alunos ###\n",
        "alunos[4] = 'kleber' ### estou subistituindo o aluno 4 (inacio) para se chamar Kleber"
      ],
      "metadata": {
        "id": "8oXv7h1GF4mH"
      },
      "execution_count": 8,
      "outputs": []
    },
    {
      "cell_type": "code",
      "source": [
        "### inserir valor na lista ###\n",
        "alunos.append ('Juvenal') ### o .append() está adicionando um novo aluno na lista"
      ],
      "metadata": {
        "id": "GuP3YpkGGIzc"
      },
      "execution_count": 9,
      "outputs": []
    },
    {
      "cell_type": "code",
      "source": [
        "alunos.append(input('Digite o nome do aluno '))"
      ],
      "metadata": {
        "colab": {
          "base_uri": "https://localhost:8080/"
        },
        "id": "BRinbDGBGSO8",
        "outputId": "2411d7ac-fdb4-4af6-9f73-dc8d54a12448"
      },
      "execution_count": 15,
      "outputs": [
        {
          "name": "stdout",
          "output_type": "stream",
          "text": [
            "Digite o nome do aluno danilo\n"
          ]
        }
      ]
    },
    {
      "cell_type": "code",
      "source": [
        "### descobrir se ha um valor determinado na lista, exibir sua pergunta ###\n",
        "\n",
        "nome = input('Procurar nome na lista ')\n",
        "\n",
        "if nome in alunos:    ### se a variavel 'nome' está na lista de 'alunos'\n",
        "  print('Existe o nome '+ nome + ' na lista') \n",
        "else:\n",
        "    print('Nao existe o nome '+ nome +' na lista')"
      ],
      "metadata": {
        "colab": {
          "base_uri": "https://localhost:8080/"
        },
        "id": "Ye98HXn3NH7F",
        "outputId": "bdba9481-442d-43ea-de87-7ec7d21ca117"
      },
      "execution_count": 38,
      "outputs": [
        {
          "output_type": "stream",
          "name": "stdout",
          "text": [
            "Procurar nome na lista danilo\n",
            "Existe o nome danilo na lista\n"
          ]
        }
      ]
    },
    {
      "cell_type": "code",
      "source": [
        "### criar uma lista de lacos com numeros de 1 a 15\n",
        "numeros = []\n",
        "for num in range(15): # for - andar por range é o alcance \n",
        "  numeros.append(num)\n",
        "numeros"
      ],
      "metadata": {
        "colab": {
          "base_uri": "https://localhost:8080/"
        },
        "id": "r6V9pJFIT581",
        "outputId": "0f661d9f-552d-45ba-92de-70ea039ecfce"
      },
      "execution_count": 37,
      "outputs": [
        {
          "output_type": "execute_result",
          "data": {
            "text/plain": [
              "[0, 1, 2, 3, 4, 5, 6, 7, 8, 9, 10, 11, 12, 13, 14]"
            ]
          },
          "metadata": {},
          "execution_count": 37
        }
      ]
    },
    {
      "cell_type": "code",
      "source": [
        "### mutiplicar a lista\n",
        "dobro = []\n",
        "for num in numeros:\n",
        "  dobro.append(numeros [num]*2)\n",
        "dobro"
      ],
      "metadata": {
        "colab": {
          "base_uri": "https://localhost:8080/"
        },
        "id": "NvbxI4H9U02H",
        "outputId": "a981c383-8f36-4788-969a-98ef907b2d52"
      },
      "execution_count": 40,
      "outputs": [
        {
          "output_type": "execute_result",
          "data": {
            "text/plain": [
              "[0, 2, 4, 6, 8, 10, 12, 14, 16, 18, 20, 22, 24, 26, 28]"
            ]
          },
          "metadata": {},
          "execution_count": 40
        }
      ]
    },
    {
      "cell_type": "code",
      "source": [
        "### descobrir se o numero é par\n",
        "a = 3\n",
        "if a%2== 0:   # o % é um modulo, == se for igual a '0' sera par\n",
        "  print('é par')\n",
        "else:\n",
        "  print('é impar')"
      ],
      "metadata": {
        "id": "mW1bWmrfW6Tv"
      },
      "execution_count": null,
      "outputs": []
    },
    {
      "cell_type": "code",
      "source": [
        "for num in numeros:  ### for é um loop\n",
        "  if num %2==0:   ### \"if\" verifica se o número é par (ou seja, se o resto da divisão por 2 é igual a zero).\n",
        "   print(num)   ### Se o número for par, a função \"print\" é chamada para imprimir o número na tela. Caso contrário, nada é impresso"
      ],
      "metadata": {
        "colab": {
          "base_uri": "https://localhost:8080/"
        },
        "id": "I9lsnu5DXPNe",
        "outputId": "9cdb2662-b205-4a2c-fd83-6f69d3465950"
      },
      "execution_count": 56,
      "outputs": [
        {
          "output_type": "stream",
          "name": "stdout",
          "text": [
            "0\n",
            "2\n",
            "4\n",
            "6\n",
            "8\n",
            "10\n",
            "12\n",
            "14\n"
          ]
        }
      ]
    }
  ]
}