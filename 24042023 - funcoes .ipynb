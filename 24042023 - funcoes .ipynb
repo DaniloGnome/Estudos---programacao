{
  "nbformat": 4,
  "nbformat_minor": 0,
  "metadata": {
    "colab": {
      "provenance": [],
      "authorship_tag": "ABX9TyNRPP4o4JYy1nU5bqPjoBk0",
      "include_colab_link": true
    },
    "kernelspec": {
      "name": "python3",
      "display_name": "Python 3"
    },
    "language_info": {
      "name": "python"
    }
  },
  "cells": [
    {
      "cell_type": "markdown",
      "metadata": {
        "id": "view-in-github",
        "colab_type": "text"
      },
      "source": [
        "<a href=\"https://colab.research.google.com/github/DaniloGnome/Program--Prof-Pablo/blob/main/24042023%20-%20funcoes%20.ipynb\" target=\"_parent\"><img src=\"https://colab.research.google.com/assets/colab-badge.svg\" alt=\"Open In Colab\"/></a>"
      ]
    },
    {
      "cell_type": "code",
      "execution_count": null,
      "metadata": {
        "id": "g9vct-rpbz-I"
      },
      "outputs": [],
      "source": [
        "lista = ['Danilo', 'alberto', 'Marcelo', 'Ana', 'Alef']\n",
        "def lista_letra_a(palavras):\n",
        "    letraA = []\n",
        "    for i in lista:\n",
        "        if i[0].upper() == 'A':\n",
        "            letraA.append(i)\n",
        "    print(len(letraA))\n",
        "    return letraA\n",
        "lista_letra_a(lista)\n",
        "\n"
      ]
    },
    {
      "cell_type": "code",
      "source": [
        "# 2 - escreva a funcao que receba uma lista de numeros e retorne o produto desses\n",
        "def produto(numeros):\n",
        "  resultado = 1\n",
        "  for n in numeros:\n",
        "    resultado *= n\n",
        "    return resultado\n",
        "\n",
        "listadenumeros = [2,5,7,9,8]\n",
        "produto(listadenumeros)"
      ],
      "metadata": {
        "colab": {
          "base_uri": "https://localhost:8080/"
        },
        "id": "ha5wd35Hb4gC",
        "outputId": "a6fc5950-18f5-4122-e4a1-c01c808a27df"
      },
      "execution_count": 21,
      "outputs": [
        {
          "output_type": "execute_result",
          "data": {
            "text/plain": [
              "2"
            ]
          },
          "metadata": {},
          "execution_count": 21
        }
      ]
    },
    {
      "cell_type": "code",
      "source": [
        "# 3 - escreva uma funcao que receba uma lista de numeros e retorne a soma dos numeros pares\n",
        "def somatorio (numeros):\n",
        "  soma = 0\n",
        "  for n in numeros:\n",
        "    if n % 2 == 0:\n",
        "      soma += n\n",
        "  return soma"
      ],
      "metadata": {
        "id": "Tx45yTFbc2s2"
      },
      "execution_count": 25,
      "outputs": []
    },
    {
      "cell_type": "code",
      "source": [
        "somatorio(listadenumeros)"
      ],
      "metadata": {
        "colab": {
          "base_uri": "https://localhost:8080/"
        },
        "id": "-TTQTpsriAC9",
        "outputId": "df9677e9-a398-47cb-b3ec-9b6dce0291ae"
      },
      "execution_count": 45,
      "outputs": [
        {
          "output_type": "execute_result",
          "data": {
            "text/plain": [
              "10"
            ]
          },
          "metadata": {},
          "execution_count": 45
        }
      ]
    },
    {
      "cell_type": "code",
      "source": [
        "# 4 - funcao recebe uma lista de nomes, e retorna a string com o maior numero de caracteres\n",
        "\n",
        "users = ['zeca', 'anastacio', 'josefina','ivo']\n",
        "\n",
        "def maiorstring(users):\n",
        "  maior = ''\n",
        "  for u in users:\n",
        "    if (len(u) >= len(maior)):\n",
        "      maior = u\n",
        "  return maior\n",
        "maiorstring(users)"
      ],
      "metadata": {
        "colab": {
          "base_uri": "https://localhost:8080/",
          "height": 35
        },
        "id": "qYClM8mWjtFo",
        "outputId": "31ebf995-860b-4bea-81ce-966e9f28cbaf"
      },
      "execution_count": 47,
      "outputs": [
        {
          "output_type": "execute_result",
          "data": {
            "text/plain": [
              "'anastacio'"
            ],
            "application/vnd.google.colaboratory.intrinsic+json": {
              "type": "string"
            }
          },
          "metadata": {},
          "execution_count": 47
        }
      ]
    }
  ]
}